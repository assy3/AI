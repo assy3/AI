{
 "cells": [
  {
   "cell_type": "code",
   "execution_count": 2,
   "metadata": {},
   "outputs": [],
   "source": [
    "import pandas as pd\n",
    "import numpy as np\n",
    "from sklearn.model_selection import train_test_split\n",
    "from sklearn.metrics import auc, roc_auc_score, roc_curve\n",
    "from sklearn.tree import DecisionTreeClassifier\n",
    "from sklearn.ensemble import RandomForestClassifier\n",
    "from sklearn.ensemble import GradientBoostingClassifier\n",
    "from sklearn.svm import SVC\n",
    "from PIL import Image\n",
    "import glob"
   ]
  },
  {
   "cell_type": "code",
   "execution_count": 3,
   "metadata": {},
   "outputs": [],
   "source": [
    "df = pd.read_csv(\"train_master.tsv\", delimiter = \"\\t\")\n"
   ]
  },
  {
   "cell_type": "code",
   "execution_count": 4,
   "metadata": {},
   "outputs": [
    {
     "name": "stdout",
     "output_type": "stream",
     "text": [
      "             file_name  category_id\n",
      "0          train_0.jpg            5\n",
      "1          train_1.jpg            0\n",
      "2          train_2.jpg            4\n",
      "3          train_3.jpg            1\n",
      "4          train_4.jpg            9\n",
      "5          train_5.jpg            2\n",
      "6          train_6.jpg            1\n",
      "7          train_7.jpg            3\n",
      "8          train_8.jpg            1\n",
      "9          train_9.jpg            4\n",
      "10        train_10.jpg            3\n",
      "11        train_11.jpg            5\n",
      "12        train_12.jpg            3\n",
      "13        train_13.jpg            6\n",
      "14        train_14.jpg            1\n",
      "15        train_15.jpg            7\n",
      "16        train_16.jpg            2\n",
      "17        train_17.jpg            8\n",
      "18        train_18.jpg            6\n",
      "19        train_19.jpg            9\n",
      "20        train_20.jpg            4\n",
      "21        train_21.jpg            0\n",
      "22        train_22.jpg            9\n",
      "23        train_23.jpg            1\n",
      "24        train_24.jpg            1\n",
      "25        train_25.jpg            2\n",
      "26        train_26.jpg            4\n",
      "27        train_27.jpg            3\n",
      "28        train_28.jpg            2\n",
      "29        train_29.jpg            7\n",
      "...                ...          ...\n",
      "59970  train_59970.jpg            2\n",
      "59971  train_59971.jpg            2\n",
      "59972  train_59972.jpg            0\n",
      "59973  train_59973.jpg            9\n",
      "59974  train_59974.jpg            2\n",
      "59975  train_59975.jpg            4\n",
      "59976  train_59976.jpg            6\n",
      "59977  train_59977.jpg            7\n",
      "59978  train_59978.jpg            3\n",
      "59979  train_59979.jpg            1\n",
      "59980  train_59980.jpg            3\n",
      "59981  train_59981.jpg            6\n",
      "59982  train_59982.jpg            6\n",
      "59983  train_59983.jpg            2\n",
      "59984  train_59984.jpg            1\n",
      "59985  train_59985.jpg            2\n",
      "59986  train_59986.jpg            6\n",
      "59987  train_59987.jpg            0\n",
      "59988  train_59988.jpg            7\n",
      "59989  train_59989.jpg            8\n",
      "59990  train_59990.jpg            9\n",
      "59991  train_59991.jpg            2\n",
      "59992  train_59992.jpg            9\n",
      "59993  train_59993.jpg            5\n",
      "59994  train_59994.jpg            1\n",
      "59995  train_59995.jpg            8\n",
      "59996  train_59996.jpg            3\n",
      "59997  train_59997.jpg            5\n",
      "59998  train_59998.jpg            6\n",
      "59999  train_59999.jpg            8\n",
      "\n",
      "[60000 rows x 2 columns]\n"
     ]
    }
   ],
   "source": [
    "print(df)"
   ]
  },
  {
   "cell_type": "code",
   "execution_count": 4,
   "metadata": {},
   "outputs": [
    {
     "ename": "NameError",
     "evalue": "name 'test' is not defined",
     "output_type": "error",
     "traceback": [
      "\u001b[1;31m---------------------------------------------------------------------------\u001b[0m",
      "\u001b[1;31mNameError\u001b[0m                                 Traceback (most recent call last)",
      "\u001b[1;32m<ipython-input-4-1bdf40fdbbf8>\u001b[0m in \u001b[0;36m<module>\u001b[1;34m()\u001b[0m\n\u001b[1;32m----> 1\u001b[1;33m \u001b[0mimg\u001b[0m \u001b[1;33m=\u001b[0m \u001b[0mImage\u001b[0m\u001b[1;33m.\u001b[0m\u001b[0mopen\u001b[0m\u001b[1;33m(\u001b[0m\u001b[0mtest\u001b[0m\u001b[1;33m/\u001b[0m\u001b[0mtest_0\u001b[0m\u001b[1;33m.\u001b[0m\u001b[0mjpg\u001b[0m\u001b[1;33m)\u001b[0m\u001b[1;33m\u001b[0m\u001b[0m\n\u001b[0m",
      "\u001b[1;31mNameError\u001b[0m: name 'test' is not defined"
     ]
    }
   ],
   "source": [
    "img = Image.open(test/test_0.jpg)\n"
   ]
  },
  {
   "cell_type": "code",
   "execution_count": null,
   "metadata": {},
   "outputs": [],
   "source": []
  }
 ],
 "metadata": {
  "kernelspec": {
   "display_name": "Python 3",
   "language": "python",
   "name": "python3"
  },
  "language_info": {
   "codemirror_mode": {
    "name": "ipython",
    "version": 3
   },
   "file_extension": ".py",
   "mimetype": "text/x-python",
   "name": "python",
   "nbconvert_exporter": "python",
   "pygments_lexer": "ipython3",
   "version": "3.6.5"
  }
 },
 "nbformat": 4,
 "nbformat_minor": 2
}
